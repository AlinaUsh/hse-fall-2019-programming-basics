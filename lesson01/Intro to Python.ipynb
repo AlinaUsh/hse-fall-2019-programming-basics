{
 "cells": [
  {
   "cell_type": "markdown",
   "metadata": {},
   "source": [
    "### Hello, world!"
   ]
  },
  {
   "cell_type": "code",
   "execution_count": null,
   "metadata": {},
   "outputs": [],
   "source": [
    "print(\"Hello, world!\")"
   ]
  },
  {
   "cell_type": "code",
   "execution_count": null,
   "metadata": {},
   "outputs": [],
   "source": [
    "a = int(input()) # считывается строка\n",
    "print(a + 1)"
   ]
  },
  {
   "cell_type": "markdown",
   "metadata": {},
   "source": [
    "### Tuple, list, dict"
   ]
  },
  {
   "cell_type": "code",
   "execution_count": null,
   "metadata": {},
   "outputs": [],
   "source": [
    "a, b, c = 1, \"abacaba\", None\n",
    "print(a, b, c)"
   ]
  },
  {
   "cell_type": "code",
   "execution_count": null,
   "metadata": {},
   "outputs": [],
   "source": [
    "(a, b, c) = 1, \"abacaba\", None # А это был просто тапл\n",
    "x = 1, \"abacaba\", None\n",
    "print(a, b, c)\n",
    "print(x)\n",
    "print(x[1])"
   ]
  },
  {
   "cell_type": "code",
   "execution_count": null,
   "metadata": {},
   "outputs": [],
   "source": [
    "t = (1, 2, 3)\n",
    "t[1] += 5\n",
    "print(t)"
   ]
  },
  {
   "cell_type": "code",
   "execution_count": null,
   "metadata": {},
   "outputs": [],
   "source": [
    "a = [1, \"tutu\", None]\n",
    "print(a)\n",
    "print(a * 2)\n",
    "\n",
    "\n",
    "b = [a, 3, 4, a]\n",
    "print(b)\n",
    "a.append(112)\n",
    "print(b)"
   ]
  },
  {
   "cell_type": "code",
   "execution_count": null,
   "metadata": {},
   "outputs": [],
   "source": [
    "a = [[]] * 10\n",
    "print(a)\n",
    "a[0].append(4)\n",
    "print(a)"
   ]
  },
  {
   "cell_type": "code",
   "execution_count": null,
   "metadata": {},
   "outputs": [],
   "source": [
    "a = {5: \"x\", \"hooooo\": \"hoo\"}\n",
    "a[None] = \"oops\"\n",
    "print(a)\n",
    "\n",
    "a[5] = 100\n",
    "\n",
    "print(a[5])\n",
    "print(a.get(10, \"Nope\"))\n",
    "\n",
    "print(a.items())\n",
    "print(a.keys())\n",
    "print(a.values())"
   ]
  },
  {
   "cell_type": "code",
   "execution_count": null,
   "metadata": {},
   "outputs": [],
   "source": [
    "a, b = map(int, input().split()) # split разделит строку по пробелу на список строк\n",
    "                                 # а map применит функцию int к каждой строке в списке\n",
    "print(a + b)"
   ]
  },
  {
   "cell_type": "markdown",
   "metadata": {},
   "source": [
    "### Полезные функции из коробки\n",
    "\n",
    "* min - понятно\n",
    "* max - понятно\n",
    "* len\n",
    "* sum\n",
    "\n",
    "\n",
    "* map(f, iterable) - применит функцию f к каждому элементу iterable \n",
    "* filter(f, iterable) - оставит только те элементы iterable, для которых функция f вернёт True\n",
    "* zip(a, b) - где a и b iterable. Объединит элементы a и b в таплы в порядке итерации. Остановится, когда хотя бы один закончится.  \n",
    "\n",
    "!!! map, filter и zip ленивые. Можно обернуть, например, в list(), чтобы получить результат.\n",
    "\n",
    "* range(a, b, c), range(a), range(a, b)"
   ]
  },
  {
   "cell_type": "code",
   "execution_count": null,
   "metadata": {},
   "outputs": [],
   "source": [
    "a = [1, 2, 3, 10, 5, 3, 9, 11]\n",
    "\n",
    "print(len(a))\n",
    "\n",
    "print(*filter(lambda x: x > 5, a)) # Что это за звёздочка???"
   ]
  },
  {
   "cell_type": "code",
   "execution_count": null,
   "metadata": {},
   "outputs": [],
   "source": [
    "a = [5, 2, 3, 4]\n",
    "b = [8, 9, 10]\n",
    "\n",
    "print(*zip(a, b))"
   ]
  },
  {
   "cell_type": "code",
   "execution_count": null,
   "metadata": {},
   "outputs": [],
   "source": [
    "a = [3, 7, 5, 6]\n",
    "print(*map(lambda x: x * x, a))"
   ]
  },
  {
   "cell_type": "markdown",
   "metadata": {},
   "source": [
    "### in, ==, is, not in, isinstance"
   ]
  },
  {
   "cell_type": "code",
   "execution_count": null,
   "metadata": {},
   "outputs": [],
   "source": [
    "print('a' in 'Anna')\n",
    "print(5 not in [1, 2, 3, 4])\n",
    "\n",
    "for _ in range(5):\n",
    "    pass"
   ]
  },
  {
   "cell_type": "code",
   "execution_count": null,
   "metadata": {},
   "outputs": [],
   "source": [
    "a = \"20$\"\n",
    "print(a is \"20$\")\n",
    "print(a == \"20$\")\n",
    "print(\"20$\" is \"20$\")"
   ]
  },
  {
   "cell_type": "code",
   "execution_count": null,
   "metadata": {},
   "outputs": [],
   "source": [
    "a = 100.\n",
    "\n",
    "print(isinstance(a, float))\n",
    "print(isinstance(a, int))"
   ]
  },
  {
   "cell_type": "markdown",
   "metadata": {},
   "source": [
    "### Функции"
   ]
  },
  {
   "cell_type": "code",
   "execution_count": null,
   "metadata": {},
   "outputs": [],
   "source": [
    "def my_sum(a, b):\n",
    "    return a + b\n",
    "\n",
    "print(my_sum(3, 4))\n",
    "print(my_sum(\"ab\", \"cab\"))\n",
    "print(my_sum(6.11, 5))"
   ]
  },
  {
   "cell_type": "code",
   "execution_count": null,
   "metadata": {},
   "outputs": [],
   "source": [
    "def my_int_sum(a: int, b: int) -> int:\n",
    "    return a + b\n",
    "\n",
    "print(my_int_sum(4, 5))\n",
    "print(my_int_sum(\"ab\", \"a\"))"
   ]
  },
  {
   "cell_type": "code",
   "execution_count": null,
   "metadata": {},
   "outputs": [],
   "source": [
    "def my_sum(*elements, init=0):\n",
    "    for element in elements:\n",
    "        init += element\n",
    "    return init\n",
    "\n",
    "print(my_sum(1, 3, 5, 2))\n",
    "print(my_sum(1, 3, 5, 2, init=4))"
   ]
  },
  {
   "cell_type": "code",
   "execution_count": null,
   "metadata": {},
   "outputs": [],
   "source": [
    "def very_abstract_function(*args, **kwargs):\n",
    "    print(args, kwargs)\n",
    "    \n",
    "very_abstract_function(1, 2, \"oooo!\", parameter=10, foo=[])"
   ]
  },
  {
   "cell_type": "code",
   "execution_count": null,
   "metadata": {},
   "outputs": [],
   "source": [
    "def ariphmetics(a, b):\n",
    "    return a + b, a * b, a - b, a / b, a // b\n",
    "\n",
    "ariphmetics(13, 5)"
   ]
  },
  {
   "cell_type": "markdown",
   "metadata": {},
   "source": [
    "### Разное"
   ]
  },
  {
   "cell_type": "code",
   "execution_count": null,
   "metadata": {},
   "outputs": [],
   "source": [
    "# Однострочный комментарий\n",
    "\n",
    "\"\"\"\n",
    "    Многострочный комментарий\n",
    "\"\"\""
   ]
  },
  {
   "cell_type": "code",
   "execution_count": null,
   "metadata": {},
   "outputs": [],
   "source": [
    "# Чтение/запись из/в файл(а)\n",
    "\n",
    "with open('in.txt', 'r') as file:\n",
    "    for line in file:\n",
    "        print(line)\n",
    "        \n",
    "with open('out.txt', 'w') as file:\n",
    "    file.writelines(['first line\\n', 'second'])"
   ]
  },
  {
   "cell_type": "markdown",
   "metadata": {},
   "source": [
    "### List/dict comprehension"
   ]
  },
  {
   "cell_type": "code",
   "execution_count": null,
   "metadata": {},
   "outputs": [],
   "source": [
    "[i * i for i in range(10) if i % 2]"
   ]
  },
  {
   "cell_type": "code",
   "execution_count": null,
   "metadata": {},
   "outputs": [],
   "source": [
    "{i: i * i for i in range(10)}"
   ]
  },
  {
   "cell_type": "markdown",
   "metadata": {},
   "source": [
    "### True or False?"
   ]
  },
  {
   "cell_type": "code",
   "execution_count": null,
   "metadata": {},
   "outputs": [],
   "source": [
    "print(bool(\"\"))\n",
    "print(bool(\"a\"))"
   ]
  },
  {
   "cell_type": "code",
   "execution_count": null,
   "metadata": {},
   "outputs": [],
   "source": [
    "print(bool(0))\n",
    "print(bool(3))\n",
    "print(bool(-1.))"
   ]
  },
  {
   "cell_type": "code",
   "execution_count": null,
   "metadata": {},
   "outputs": [],
   "source": [
    "print(bool([]))\n",
    "print(bool({}))\n",
    "\n",
    "print(bool([0, 2, 3]))\n",
    "print(bool({\"x\":\"y\"}))"
   ]
  },
  {
   "cell_type": "code",
   "execution_count": null,
   "metadata": {},
   "outputs": [],
   "source": [
    "print(bool(None))"
   ]
  },
  {
   "cell_type": "code",
   "execution_count": null,
   "metadata": {},
   "outputs": [],
   "source": []
  }
 ],
 "metadata": {
  "kernelspec": {
   "display_name": "Python 3",
   "language": "python",
   "name": "python3"
  },
  "language_info": {
   "codemirror_mode": {
    "name": "ipython",
    "version": 3
   },
   "file_extension": ".py",
   "mimetype": "text/x-python",
   "name": "python",
   "nbconvert_exporter": "python",
   "pygments_lexer": "ipython3",
   "version": "3.6.8"
  }
 },
 "nbformat": 4,
 "nbformat_minor": 2
}
