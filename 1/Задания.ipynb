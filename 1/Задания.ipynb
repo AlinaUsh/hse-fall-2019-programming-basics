{
 "cells": [
  {
   "cell_type": "markdown",
   "metadata": {},
   "source": [
    "### Задание 1\n",
    "\n",
    "Напишите скрипт, который выводит на экран \"Hello {имя}\", где {имя} -- это первый и единственный аргумент скрипта. (помните про ```__name__``` и ```argparse```)."
   ]
  },
  {
   "cell_type": "markdown",
   "metadata": {},
   "source": [
    "### Задание 2\n",
    "\n",
    "Напишите функцию swap для интов. Напишите тест к этой функции. "
   ]
  },
  {
   "cell_type": "markdown",
   "metadata": {},
   "source": [
    "### Задание 3\n",
    "\n",
    "Напишите генератор бесконечной последовательности чисел, сумма цифр которых делится на 7. (кто напишет самый короткий код?)"
   ]
  },
  {
   "cell_type": "markdown",
   "metadata": {},
   "source": [
    "### Задание 4\n",
    "\n",
    "У вас есть следующий код, который для данной координаты ```x, y``` и матрицы определяет, пусты ли 4 клетки вокруг клетки ```x, y``` (пуст = содержат точку). Помимо точки в матрице могут быть символы \"?\" и \"#\". Отрефакторьте его:"
   ]
  },
  {
   "cell_type": "code",
   "execution_count": 2,
   "metadata": {},
   "outputs": [],
   "source": [
    "n, m = 3, 6\n",
    "matrix = [\"#?##..\",\n",
    "          \"##..#.\",\n",
    "          \"##..#?\"]\n",
    "\n",
    "def is_neighbourghood_empty(x, y):\n",
    "    result = True\n",
    "    if matrix[x][y] == '#' or matrix[x][y] == '?':\n",
    "        result = False\n",
    "    if x - 1 > 0 and (matrix[x - 1][y] == '#' or matrix[x - 1][y] == '?'):\n",
    "        result = False\n",
    "    if y - 1 > 0 and (matrix[x][y - 1] == '#' or matrix[x][y - 1] == '?'):\n",
    "        result = False\n",
    "    if y + 1 < m and (matrix[x][y + 1] == '#' or matrix[x][y + 1] == '?'):\n",
    "        result = False\n",
    "    if x + 1 < n and (matrix[x + 1][y] == '#' or matrix[x + 1][y] == '?'):\n",
    "        result = False\n",
    "    return result"
   ]
  },
  {
   "cell_type": "code",
   "execution_count": 3,
   "metadata": {},
   "outputs": [
    {
     "data": {
      "text/plain": [
       "True"
      ]
     },
     "execution_count": 3,
     "metadata": {},
     "output_type": "execute_result"
    }
   ],
   "source": [
    "is_neighbourghood_empty(0, 5)"
   ]
  },
  {
   "cell_type": "code",
   "execution_count": 4,
   "metadata": {},
   "outputs": [
    {
     "data": {
      "text/plain": [
       "False"
      ]
     },
     "execution_count": 4,
     "metadata": {},
     "output_type": "execute_result"
    }
   ],
   "source": [
    "is_neighbourghood_empty(1, 5)"
   ]
  },
  {
   "cell_type": "code",
   "execution_count": 5,
   "metadata": {},
   "outputs": [
    {
     "data": {
      "text/plain": [
       "False"
      ]
     },
     "execution_count": 5,
     "metadata": {},
     "output_type": "execute_result"
    }
   ],
   "source": [
    "is_neighbourghood_empty(1, 4)"
   ]
  },
  {
   "cell_type": "markdown",
   "metadata": {},
   "source": [
    "### Задание 4\n",
    "Напишите функцию, которая проверяет, является ли строка номером телефона в формате +7(123)456-78-90"
   ]
  },
  {
   "cell_type": "code",
   "execution_count": null,
   "metadata": {},
   "outputs": [],
   "source": []
  }
 ],
 "metadata": {
  "kernelspec": {
   "display_name": "Python 3",
   "language": "python",
   "name": "python3"
  },
  "language_info": {
   "codemirror_mode": {
    "name": "ipython",
    "version": 3
   },
   "file_extension": ".py",
   "mimetype": "text/x-python",
   "name": "python",
   "nbconvert_exporter": "python",
   "pygments_lexer": "ipython3",
   "version": "3.6.8"
  }
 },
 "nbformat": 4,
 "nbformat_minor": 2
}
