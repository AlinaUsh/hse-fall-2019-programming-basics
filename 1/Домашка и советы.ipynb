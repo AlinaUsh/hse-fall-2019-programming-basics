{
 "cells": [
  {
   "cell_type": "code",
   "execution_count": 5,
   "metadata": {},
   "outputs": [
    {
     "name": "stdout",
     "output_type": "stream",
     "text": [
      "[2.0, -8.4, 10.8]\n"
     ]
    }
   ],
   "source": [
    "# Типы \n",
    "# https://docs.python.org/3/library/typing.html\n",
    "\n",
    "from typing import List, Tuple\n",
    "\n",
    "Vector = List[float]\n",
    "\n",
    "def scale(scalar: float, vector: Vector) -> Vector:\n",
    "    return [scalar * num for num in vector]\n",
    "\n",
    "print(scale(2.0, [1.0, -4.2, 5.4]))"
   ]
  },
  {
   "cell_type": "code",
   "execution_count": 6,
   "metadata": {},
   "outputs": [],
   "source": [
    "def some_function(a: int, b:str, c:float):\n",
    "    pass"
   ]
  },
  {
   "cell_type": "code",
   "execution_count": 16,
   "metadata": {},
   "outputs": [
    {
     "data": {
      "text/plain": [
       "Namespace(files=[], needle='abc', regex=True)"
      ]
     },
     "execution_count": 16,
     "metadata": {},
     "output_type": "execute_result"
    }
   ],
   "source": [
    "# argparse -- parses args in a smart way\n",
    "# https://docs.python.org/3/library/argparse.html\n",
    "\n",
    "import argparse as ap\n",
    "\n",
    "def parse_args(args_str: List[str]) -> ap.Namespace:\n",
    "    parser = ap.ArgumentParser()\n",
    "    parser.add_argument('needle', type=str)\n",
    "    parser.add_argument('files', nargs='*')\n",
    "    parser.add_argument('-E', dest='regex', action='store_true')\n",
    "    args = parser.parse_args(args_str) # Если не передать сюда аргументов, будет парсить sys.argv\n",
    "    \n",
    "    return args\n",
    "\n",
    "parse_args([\"abc\", \"-E\"])"
   ]
  },
  {
   "cell_type": "code",
   "execution_count": 24,
   "metadata": {},
   "outputs": [
    {
     "name": "stdout",
     "output_type": "stream",
     "text": [
      "None\n",
      "<_sre.SRE_Match object; span=(0, 3), match='...'>\n",
      "...\n",
      "<_sre.SRE_Match object; span=(0, 3), match='abc'>\n",
      "abc\n"
     ]
    }
   ],
   "source": [
    "# https://docs.python.org/3/library/re.html\n",
    "\n",
    "import re\n",
    "\n",
    "escaped_questions_re = re.escape(\"...\")\n",
    "simple_questions_re = re.compile(\"...\")\n",
    "\n",
    "print(re.match(escaped_questions_re, \"abcdef\"))\n",
    "print(re.match(escaped_questions_re, \".....\"))\n",
    "print(re.match(escaped_questions_re, \".....\").group(0))\n",
    "\n",
    "print(re.match(simple_questions_re, \"abcdef\"))\n",
    "print(re.match(simple_questions_re, \"abcdef\").group(0))\n"
   ]
  },
  {
   "cell_type": "markdown",
   "metadata": {},
   "source": [
    "## Советы\n",
    "\n",
    "* Если вы думаете, что решаете какую-то простую подзадачу, попробуйте это загуглить (на английском). Скорее всего такое уже есть в питоне из коробки или это известная проблема с понятным решением. Гуглением поначалу вообще решается почти всё.\n",
    "    * Например, \"python regexp exact match\", \"pyhon infinite counter\"\n",
    "* Подумайте о том, можно ли объединить случаи с флагом -E и без него?\n",
    "* Что случится с вашей программой в будущем, если вас попросят добавить ещё флагов? \n",
    "* Как красиво обработать случаи с выводом?"
   ]
  },
  {
   "cell_type": "markdown",
   "metadata": {},
   "source": [
    "## Утилиты"
   ]
  },
  {
   "cell_type": "markdown",
   "metadata": {},
   "source": [
    "Возможно, придётся добавить перед командой python3 -m (особенно если вы не добавляли ничего в PATH)\n",
    "\n",
    "(подробные ключи, с которыми мы будем проверять, живут в README к домашнему заданию)\n",
    " \n",
    "* flack8\n",
    "* pylint\n",
    "* pytest\n",
    "* pytest --cov=.\n",
    "* mypy <file>"
   ]
  },
  {
   "cell_type": "code",
   "execution_count": null,
   "metadata": {},
   "outputs": [],
   "source": []
  }
 ],
 "metadata": {
  "kernelspec": {
   "display_name": "Python 3",
   "language": "python",
   "name": "python3"
  },
  "language_info": {
   "codemirror_mode": {
    "name": "ipython",
    "version": 3
   },
   "file_extension": ".py",
   "mimetype": "text/x-python",
   "name": "python",
   "nbconvert_exporter": "python",
   "pygments_lexer": "ipython3",
   "version": "3.6.8"
  }
 },
 "nbformat": 4,
 "nbformat_minor": 2
}
