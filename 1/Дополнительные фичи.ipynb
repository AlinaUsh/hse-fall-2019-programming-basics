{
 "cells": [
  {
   "cell_type": "code",
   "execution_count": 2,
   "metadata": {},
   "outputs": [
    {
     "name": "stdout",
     "output_type": "stream",
     "text": [
      "2 sdfd\n"
     ]
    }
   ],
   "source": [
    "a = [0, 2, None, \"sdfd\", \"\", []]\n",
    "print(*filter(None, a))"
   ]
  },
  {
   "cell_type": "code",
   "execution_count": 4,
   "metadata": {},
   "outputs": [
    {
     "name": "stdout",
     "output_type": "stream",
     "text": [
      "0;3 :) \n",
      "1;4 :) \n",
      "2;8 :) \n",
      "3;2 :) \n"
     ]
    }
   ],
   "source": [
    "a = [3, 4, 8, 2]\n",
    "\n",
    "for i, element in enumerate(a):\n",
    "    print(i, element, end=\" :) \\n\", sep=';')"
   ]
  },
  {
   "cell_type": "code",
   "execution_count": 5,
   "metadata": {},
   "outputs": [
    {
     "data": {
      "text/plain": [
       "'Hello, darkness my old friend! Count from 3 to 7'"
      ]
     },
     "execution_count": 5,
     "metadata": {},
     "output_type": "execute_result"
    }
   ],
   "source": [
    "\"Hello, {} my old friend! Count from {} to {}\".format(\"darkness\", 3, 7)"
   ]
  },
  {
   "cell_type": "code",
   "execution_count": 9,
   "metadata": {},
   "outputs": [
    {
     "name": "stdout",
     "output_type": "stream",
     "text": [
      "1\n",
      "1\n",
      "2\n",
      "3\n",
      "5\n"
     ]
    }
   ],
   "source": [
    "def f_generator():\n",
    "    a, b = 1, 1\n",
    "    while(True):\n",
    "        yield a\n",
    "        a, b = b, a + b\n",
    "\n",
    "fibbonacci = f_generator() \n",
    "for _ in range(5):\n",
    "    print(next(fibbonacci))"
   ]
  },
  {
   "cell_type": "code",
   "execution_count": null,
   "metadata": {},
   "outputs": [],
   "source": []
  }
 ],
 "metadata": {
  "kernelspec": {
   "display_name": "Python 3",
   "language": "python",
   "name": "python3"
  },
  "language_info": {
   "codemirror_mode": {
    "name": "ipython",
    "version": 3
   },
   "file_extension": ".py",
   "mimetype": "text/x-python",
   "name": "python",
   "nbconvert_exporter": "python",
   "pygments_lexer": "ipython3",
   "version": "3.6.8"
  }
 },
 "nbformat": 4,
 "nbformat_minor": 2
}
